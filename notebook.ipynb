{
 "cells": [
  {
   "cell_type": "markdown",
   "source": [
    "# Exploration des données"
   ],
   "metadata": {}
  },
  {
   "cell_type": "code",
   "execution_count": null,
   "source": [
    "\n",
    "import numpy as np #  manip des arrays (tableaux)\n",
    "import pandas as pd #  manip des dataframes\n",
    "import matplotlib.pyplot as plt #  construct des graphes : barplot, cammenberts\n",
    "import seaborn as sns\n",
    "\n",
    "df = pd.read_csv('processed.cleveland.csv', names=['age','sex','chest pain','blood pressure(r)','cholestoral','fasting blood sugar','eleccardio results(r)','max heart rate achvd','exercise angina','ST depression (ex to r)','slope exercise ST','number of vessels','thalassemia','diagnosis'])\n",
    "df.describe()\n",
    "\n",
    "df.describe()"
   ],
   "outputs": [],
   "metadata": {}
  },
  {
   "cell_type": "code",
   "execution_count": null,
   "source": [
    "df.boxplot(figsize=[8,6], rot=70)"
   ],
   "outputs": [],
   "metadata": {}
  },
  {
   "cell_type": "code",
   "execution_count": null,
   "source": [
    "# from pandas.plotting import scatter_matrix\n",
    "# scatter_mat = scatter_matrix(df, figsize = (20,16))\n",
    "\n",
    "axes = pd.plotting.scatter_matrix(df, alpha=0.2, figsize = (16,12))\n",
    "for ax in axes.flatten():\n",
    "    ax.xaxis.label.set_rotation(90)\n",
    "    ax.yaxis.label.set_rotation(0)\n",
    "    ax.yaxis.label.set_ha('right')\n",
    "\n",
    "plt.tight_layout()\n",
    "plt.gcf().subplots_adjust(wspace=0, hspace=0)\n",
    "plt.show()"
   ],
   "outputs": [],
   "metadata": {}
  },
  {
   "cell_type": "code",
   "execution_count": null,
   "source": [
    "df_corr = df.corr()\n",
    "df_corr"
   ],
   "outputs": [],
   "metadata": {}
  },
  {
   "cell_type": "code",
   "execution_count": null,
   "source": [
    "cmap = cmap=sns.diverging_palette(5, 250, as_cmap=True)\n",
    "\n",
    "def magnify():\n",
    "    return [dict(selector=\"th\",\n",
    "            props=[(\"font-size\", \"7pt\")]),\n",
    "            dict(selector=\"td\",\n",
    "            props=[('padding', \"0em 0em\")]),\n",
    "            dict(selector=\"th:hover\",\n",
    "            props=[(\"font-size\", \"12pt\")]),\n",
    "            dict(selector=\"tr:hover td:hover\",\n",
    "            props=[('max-width', '200px'),\n",
    "            ('font-size', '12pt')])\n",
    "        ]\n",
    "        \n",
    "df_corr.style.background_gradient(cmap, axis=1).set_properties(**{'hello':'80px','font-size':'10pt'}).set_caption(\"Hover to magify\").set_precision(2).set_table_styles(magnify())\n",
    "\n"
   ],
   "outputs": [],
   "metadata": {}
  },
  {
   "cell_type": "code",
   "execution_count": null,
   "source": [
    "# Régression linéaire ajustée au graphique précédent\n",
    "sns.regplot(x=df[\"max heart rate achvd\"], y=df[\"age\"], fit_reg=True)\n",
    "plt.show()"
   ],
   "outputs": [],
   "metadata": {}
  },
  {
   "cell_type": "code",
   "execution_count": null,
   "source": [
    "# df.plot(x='exercise angina', y='chest pain', style='o')\n",
    "sns.regplot(x=df[\"exercise angina\"], y=df[\"chest pain\"], fit_reg=True)\n",
    "plt.show()"
   ],
   "outputs": [],
   "metadata": {}
  },
  {
   "cell_type": "code",
   "execution_count": null,
   "source": [
    "# df.plot(x='exercise angina', y='chest pain', style='o')\n",
    "sns.regplot(x=df[\"cholestoral\"], y=df[\"diagnosis\"], fit_reg=True)\n",
    "plt.show()"
   ],
   "outputs": [],
   "metadata": {}
  },
  {
   "cell_type": "code",
   "execution_count": null,
   "source": [
    "# df.plot(x='blood pressure(r)', y='cholestoral', style='o')\n",
    "sns.regplot(x=df[\"blood pressure(r)\"], y=df[\"cholestoral\"], fit_reg=True)\n",
    "plt.show()\n"
   ],
   "outputs": [],
   "metadata": {}
  },
  {
   "cell_type": "code",
   "execution_count": null,
   "source": [
    "graph = df.groupby(['age'])['age'].count()\n",
    "graph.plot(kind = 'bar', figsize=(16, 10))"
   ],
   "outputs": [],
   "metadata": {}
  },
  {
   "cell_type": "code",
   "execution_count": null,
   "source": [
    "graph = df.groupby(['sex'])['sex'].count()\n",
    "graph.plot(kind = 'bar', figsize=(16, 10))"
   ],
   "outputs": [],
   "metadata": {}
  },
  {
   "cell_type": "code",
   "execution_count": null,
   "source": [
    "# On nettoie les valeurs nulles\n",
    "df = df[df[\"number of vessels\"].str.contains(\"\\?\")==False]\n",
    "df = df[df[\"thalassemia\"].str.contains(\"\\?\")==False]\n",
    "\n",
    "df.describe()\n"
   ],
   "outputs": [],
   "metadata": {}
  },
  {
   "cell_type": "code",
   "execution_count": null,
   "source": [
    "from sklearn.preprocessing import MinMaxScaler\n",
    "\n",
    "min_max = MinMaxScaler()\n",
    "\n",
    "df_minmax = min_max.fit_transform(df)\n",
    "df_minmax = pd.DataFrame(df_minmax)\n",
    "df_minmax.boxplot(rot = 45,figsize=(16, 10))"
   ],
   "outputs": [],
   "metadata": {}
  },
  {
   "cell_type": "code",
   "execution_count": null,
   "source": [
    "from sklearn.preprocessing import scale\n",
    "\n",
    "df_scale = scale(df)\n",
    "df_scale\n",
    "pd.DataFrame(df_scale).boxplot(rot = 45,figsize=(16, 10))"
   ],
   "outputs": [],
   "metadata": {}
  },
  {
   "cell_type": "markdown",
   "source": [
    "# Split"
   ],
   "metadata": {}
  },
  {
   "cell_type": "code",
   "execution_count": null,
   "source": [
    "from sklearn.model_selection import train_test_split\n",
    "from sklearn.preprocessing import LabelEncoder\n",
    "\n",
    "X = df_minmax.iloc[:,0:13]\n",
    "y = df_minmax.iloc[:,-1]\n",
    "\n",
    "X_train, X_test, y_train, y_test = train_test_split(X, y, test_size=1/4, random_state=42, stratify=y)\n",
    "\n",
    "# FIXME : Restore initial classes\n",
    "le = LabelEncoder()\n",
    "le.fit(y_train)\n",
    "y_train = le.transform(y_train)\n",
    "le.fit(y_test)\n",
    "y_test = le.transform(y_test)"
   ],
   "outputs": [],
   "metadata": {}
  },
  {
   "cell_type": "markdown",
   "source": [
    "# Entraîner le modèle"
   ],
   "metadata": {}
  },
  {
   "cell_type": "code",
   "execution_count": null,
   "source": [
    "from sklearn.neighbors import KNeighborsClassifier\n",
    "\n",
    "knn = KNeighborsClassifier(n_neighbors=1)\n",
    "knn.fit(X_train, y_train)\n",
    "knn.effective_metric_"
   ],
   "outputs": [],
   "metadata": {}
  },
  {
   "cell_type": "markdown",
   "source": [
    "# Prédir"
   ],
   "metadata": {}
  },
  {
   "cell_type": "code",
   "execution_count": null,
   "source": [
    "y_pred = knn.predict(X_test)\n",
    " "
   ],
   "outputs": [],
   "metadata": {}
  },
  {
   "cell_type": "markdown",
   "source": [
    "# Evaluer"
   ],
   "metadata": {}
  },
  {
   "cell_type": "code",
   "execution_count": null,
   "source": [
    "from sklearn import metrics\n",
    "\n",
    "def evaluate_this(y_test,y_pred):\n",
    "    print(metrics.accuracy_score(y_test, y_pred))\n",
    "    print(metrics.f1_score(y_test, y_pred, average='weighted'))\n",
    "\n",
    "evaluate_this(y_test,y_pred)"
   ],
   "outputs": [],
   "metadata": {}
  },
  {
   "cell_type": "markdown",
   "source": [
    "# Try to guess better K"
   ],
   "metadata": {}
  },
  {
   "cell_type": "markdown",
   "source": [
    "## k-fold cross validation"
   ],
   "metadata": {}
  },
  {
   "cell_type": "code",
   "execution_count": null,
   "source": [
    "# https://towardsdatascience.com/how-to-find-the-optimal-value-of-k-in-knn-35d936e554eb pour l'approche basique\n",
    "# https://kevinzakka.github.io/2016/07/13/k-nearest-neighbor/ pour le cross validation\n",
    "\n",
    "from sklearn.model_selection import cross_val_score\n",
    "\n",
    "# creating odd list of K for KNN\n",
    "neighbors = list(range(1, 50, 2))\n",
    "\n",
    "cv_scores = []\n",
    "error_rate = []\n",
    "\n",
    "for k in neighbors:\n",
    "    knn = KNeighborsClassifier(n_neighbors=k)\n",
    "    scores = cross_val_score(knn, X_train, y_train, cv=10, scoring='accuracy')\n",
    "    cv_scores.append(scores.mean())\n",
    "    \n",
    "    knn.fit(X_train, y_train)\n",
    "    y_pred = knn.predict(X_test)\n",
    "    error_rate.append(np.mean(y_pred != y_test))\n",
    "\n",
    "# changing CV accuracy => to CV error\n",
    "cv_errors = [1 - x for x in cv_scores]\n",
    "\n",
    "# determining best k for both methods\n",
    "cv_optimal_k = neighbors[cv_errors.index(min(cv_errors))]\n",
    "error_optimal_k = neighbors[error_rate.index(min(error_rate))]\n",
    "\n",
    "plt.figure(figsize=(10,6))\n",
    "plt.plot(neighbors, cv_errors, color='green', linestyle='dashed', \n",
    "         marker='o', markersize=6)\n",
    "\n",
    "plt.plot(neighbors, error_rate, color='grey', linestyle='dashed', \n",
    "         marker='o', markersize=6)\n",
    "\n",
    "\n",
    "plt.title('CV errors AND Erros VS K')\n",
    "plt.xlabel(\"K\")\n",
    "plt.ylabel(\"Error rate\")\n",
    "\n",
    "print(\"Minimum CV error : \", min(cv_errors),\" % at K =\", cv_optimal_k)\n",
    "print(\"Minimum error: \", min(error_rate),\" % at K =\", error_optimal_k)\n"
   ],
   "outputs": [],
   "metadata": {}
  },
  {
   "cell_type": "markdown",
   "source": [
    "### Best K is 15 !\n",
    "\n",
    "> 5 seems good, but it is probably overfiting"
   ],
   "metadata": {}
  },
  {
   "cell_type": "code",
   "execution_count": null,
   "source": [
    "df = pd.DataFrame({\"neighbors\" : neighbors, \"CV errors\" : cv_errors, \"Errors\" : error_rate}, index=neighbors)\n",
    "# df = df.sort_values('errors', ascending=True)\n",
    "df = df.sort_values(['CV errors', 'neighbors'], ascending=[True, False])\n",
    "df.head(15)"
   ],
   "outputs": [],
   "metadata": {}
  },
  {
   "cell_type": "markdown",
   "source": [
    "# Rerun model with new K"
   ],
   "metadata": {}
  },
  {
   "cell_type": "code",
   "execution_count": null,
   "source": [
    "K = 15\n",
    "\n",
    "knn = KNeighborsClassifier(n_neighbors=K)\n",
    "knn.fit(X_train, y_train)\n",
    "y_pred = knn.predict(X_test)\n",
    "\n",
    "evaluate_this(y_test, y_pred)"
   ],
   "outputs": [],
   "metadata": {}
  },
  {
   "cell_type": "code",
   "execution_count": null,
   "source": [],
   "outputs": [],
   "metadata": {}
  }
 ],
 "metadata": {
  "orig_nbformat": 4,
  "language_info": {
   "name": "python",
   "version": "3.9.6",
   "mimetype": "text/x-python",
   "codemirror_mode": {
    "name": "ipython",
    "version": 3
   },
   "pygments_lexer": "ipython3",
   "nbconvert_exporter": "python",
   "file_extension": ".py"
  },
  "kernelspec": {
   "name": "python3",
   "display_name": "Python 3.9.6 64-bit"
  },
  "interpreter": {
   "hash": "e7370f93d1d0cde622a1f8e1c04877d8463912d04d973331ad4851f04de6915a"
  }
 },
 "nbformat": 4,
 "nbformat_minor": 2
}